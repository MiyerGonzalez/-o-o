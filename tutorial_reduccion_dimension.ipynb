{
  "cells": [
    {
      "cell_type": "markdown",
      "metadata": {
        "id": "view-in-github",
        "colab_type": "text"
      },
      "source": [
        "<a href=\"https://colab.research.google.com/github/MiyerGonzalez/-o-o/blob/master/tutorial_reduccion_dimension.ipynb\" target=\"_parent\"><img src=\"https://colab.research.google.com/assets/colab-badge.svg\" alt=\"Open In Colab\"/></a>"
      ]
    },
    {
      "cell_type": "markdown",
      "id": "706d03e7-0997-4e44-8d63-24815966bba0",
      "metadata": {
        "id": "706d03e7-0997-4e44-8d63-24815966bba0"
      },
      "source": [
        "#Reducción de Dimensionalidades"
      ]
    },
    {
      "cell_type": "markdown",
      "id": "ffdfd9bc-4139-493e-9ef0-9809b3457765",
      "metadata": {
        "id": "ffdfd9bc-4139-493e-9ef0-9809b3457765"
      },
      "source": [
        "## <span style=\"color:green\">1. PCA</span>"
      ]
    },
    {
      "cell_type": "markdown",
      "id": "acd08539-0131-414a-879c-c92299463951",
      "metadata": {
        "id": "acd08539-0131-414a-879c-c92299463951"
      },
      "source": [
        "PCA=Principal Component Analysis"
      ]
    },
    {
      "cell_type": "code",
      "execution_count": null,
      "id": "ff72570a-df50-4427-9919-18101f4a1398",
      "metadata": {
        "id": "ff72570a-df50-4427-9919-18101f4a1398"
      },
      "outputs": [],
      "source": [
        "#Importa los librerías pandas, numpy, matplotlib\n",
        "import pandas as pd\n",
        "import numpy as np\n",
        "import matplotlib.pyplot as plt\n",
        "import os"
      ]
    },
    {
      "cell_type": "code",
      "execution_count": null,
      "id": "a9a9a664-e695-4a7e-91d6-59c8d59c88f4",
      "metadata": {
        "colab": {
          "base_uri": "https://localhost:8080/",
          "height": 206
        },
        "id": "a9a9a664-e695-4a7e-91d6-59c8d59c88f4",
        "outputId": "43fa7003-a4eb-4fa2-fa68-62d1495f04fd"
      },
      "outputs": [
        {
          "output_type": "execute_result",
          "data": {
            "text/plain": [
              "   gmat  gpa  work_experience  admitted\n",
              "0   780  4.0                3         1\n",
              "1   750  3.9                4         1\n",
              "2   690  3.3                3         0\n",
              "3   710  3.7                5         1\n",
              "4   680  3.9                4         0"
            ],
            "text/html": [
              "\n",
              "  <div id=\"df-20a8dcaf-4126-47d6-99ed-dc93700004f6\" class=\"colab-df-container\">\n",
              "    <div>\n",
              "<style scoped>\n",
              "    .dataframe tbody tr th:only-of-type {\n",
              "        vertical-align: middle;\n",
              "    }\n",
              "\n",
              "    .dataframe tbody tr th {\n",
              "        vertical-align: top;\n",
              "    }\n",
              "\n",
              "    .dataframe thead th {\n",
              "        text-align: right;\n",
              "    }\n",
              "</style>\n",
              "<table border=\"1\" class=\"dataframe\">\n",
              "  <thead>\n",
              "    <tr style=\"text-align: right;\">\n",
              "      <th></th>\n",
              "      <th>gmat</th>\n",
              "      <th>gpa</th>\n",
              "      <th>work_experience</th>\n",
              "      <th>admitted</th>\n",
              "    </tr>\n",
              "  </thead>\n",
              "  <tbody>\n",
              "    <tr>\n",
              "      <th>0</th>\n",
              "      <td>780</td>\n",
              "      <td>4.0</td>\n",
              "      <td>3</td>\n",
              "      <td>1</td>\n",
              "    </tr>\n",
              "    <tr>\n",
              "      <th>1</th>\n",
              "      <td>750</td>\n",
              "      <td>3.9</td>\n",
              "      <td>4</td>\n",
              "      <td>1</td>\n",
              "    </tr>\n",
              "    <tr>\n",
              "      <th>2</th>\n",
              "      <td>690</td>\n",
              "      <td>3.3</td>\n",
              "      <td>3</td>\n",
              "      <td>0</td>\n",
              "    </tr>\n",
              "    <tr>\n",
              "      <th>3</th>\n",
              "      <td>710</td>\n",
              "      <td>3.7</td>\n",
              "      <td>5</td>\n",
              "      <td>1</td>\n",
              "    </tr>\n",
              "    <tr>\n",
              "      <th>4</th>\n",
              "      <td>680</td>\n",
              "      <td>3.9</td>\n",
              "      <td>4</td>\n",
              "      <td>0</td>\n",
              "    </tr>\n",
              "  </tbody>\n",
              "</table>\n",
              "</div>\n",
              "    <div class=\"colab-df-buttons\">\n",
              "\n",
              "  <div class=\"colab-df-container\">\n",
              "    <button class=\"colab-df-convert\" onclick=\"convertToInteractive('df-20a8dcaf-4126-47d6-99ed-dc93700004f6')\"\n",
              "            title=\"Convert this dataframe to an interactive table.\"\n",
              "            style=\"display:none;\">\n",
              "\n",
              "  <svg xmlns=\"http://www.w3.org/2000/svg\" height=\"24px\" viewBox=\"0 -960 960 960\">\n",
              "    <path d=\"M120-120v-720h720v720H120Zm60-500h600v-160H180v160Zm220 220h160v-160H400v160Zm0 220h160v-160H400v160ZM180-400h160v-160H180v160Zm440 0h160v-160H620v160ZM180-180h160v-160H180v160Zm440 0h160v-160H620v160Z\"/>\n",
              "  </svg>\n",
              "    </button>\n",
              "\n",
              "  <style>\n",
              "    .colab-df-container {\n",
              "      display:flex;\n",
              "      gap: 12px;\n",
              "    }\n",
              "\n",
              "    .colab-df-convert {\n",
              "      background-color: #E8F0FE;\n",
              "      border: none;\n",
              "      border-radius: 50%;\n",
              "      cursor: pointer;\n",
              "      display: none;\n",
              "      fill: #1967D2;\n",
              "      height: 32px;\n",
              "      padding: 0 0 0 0;\n",
              "      width: 32px;\n",
              "    }\n",
              "\n",
              "    .colab-df-convert:hover {\n",
              "      background-color: #E2EBFA;\n",
              "      box-shadow: 0px 1px 2px rgba(60, 64, 67, 0.3), 0px 1px 3px 1px rgba(60, 64, 67, 0.15);\n",
              "      fill: #174EA6;\n",
              "    }\n",
              "\n",
              "    .colab-df-buttons div {\n",
              "      margin-bottom: 4px;\n",
              "    }\n",
              "\n",
              "    [theme=dark] .colab-df-convert {\n",
              "      background-color: #3B4455;\n",
              "      fill: #D2E3FC;\n",
              "    }\n",
              "\n",
              "    [theme=dark] .colab-df-convert:hover {\n",
              "      background-color: #434B5C;\n",
              "      box-shadow: 0px 1px 3px 1px rgba(0, 0, 0, 0.15);\n",
              "      filter: drop-shadow(0px 1px 2px rgba(0, 0, 0, 0.3));\n",
              "      fill: #FFFFFF;\n",
              "    }\n",
              "  </style>\n",
              "\n",
              "    <script>\n",
              "      const buttonEl =\n",
              "        document.querySelector('#df-20a8dcaf-4126-47d6-99ed-dc93700004f6 button.colab-df-convert');\n",
              "      buttonEl.style.display =\n",
              "        google.colab.kernel.accessAllowed ? 'block' : 'none';\n",
              "\n",
              "      async function convertToInteractive(key) {\n",
              "        const element = document.querySelector('#df-20a8dcaf-4126-47d6-99ed-dc93700004f6');\n",
              "        const dataTable =\n",
              "          await google.colab.kernel.invokeFunction('convertToInteractive',\n",
              "                                                    [key], {});\n",
              "        if (!dataTable) return;\n",
              "\n",
              "        const docLinkHtml = 'Like what you see? Visit the ' +\n",
              "          '<a target=\"_blank\" href=https://colab.research.google.com/notebooks/data_table.ipynb>data table notebook</a>'\n",
              "          + ' to learn more about interactive tables.';\n",
              "        element.innerHTML = '';\n",
              "        dataTable['output_type'] = 'display_data';\n",
              "        await google.colab.output.renderOutput(dataTable, element);\n",
              "        const docLink = document.createElement('div');\n",
              "        docLink.innerHTML = docLinkHtml;\n",
              "        element.appendChild(docLink);\n",
              "      }\n",
              "    </script>\n",
              "  </div>\n",
              "\n",
              "\n",
              "<div id=\"df-7f55231e-9f8c-478c-b101-15a1c3db0352\">\n",
              "  <button class=\"colab-df-quickchart\" onclick=\"quickchart('df-7f55231e-9f8c-478c-b101-15a1c3db0352')\"\n",
              "            title=\"Suggest charts\"\n",
              "            style=\"display:none;\">\n",
              "\n",
              "<svg xmlns=\"http://www.w3.org/2000/svg\" height=\"24px\"viewBox=\"0 0 24 24\"\n",
              "     width=\"24px\">\n",
              "    <g>\n",
              "        <path d=\"M19 3H5c-1.1 0-2 .9-2 2v14c0 1.1.9 2 2 2h14c1.1 0 2-.9 2-2V5c0-1.1-.9-2-2-2zM9 17H7v-7h2v7zm4 0h-2V7h2v10zm4 0h-2v-4h2v4z\"/>\n",
              "    </g>\n",
              "</svg>\n",
              "  </button>\n",
              "\n",
              "<style>\n",
              "  .colab-df-quickchart {\n",
              "      --bg-color: #E8F0FE;\n",
              "      --fill-color: #1967D2;\n",
              "      --hover-bg-color: #E2EBFA;\n",
              "      --hover-fill-color: #174EA6;\n",
              "      --disabled-fill-color: #AAA;\n",
              "      --disabled-bg-color: #DDD;\n",
              "  }\n",
              "\n",
              "  [theme=dark] .colab-df-quickchart {\n",
              "      --bg-color: #3B4455;\n",
              "      --fill-color: #D2E3FC;\n",
              "      --hover-bg-color: #434B5C;\n",
              "      --hover-fill-color: #FFFFFF;\n",
              "      --disabled-bg-color: #3B4455;\n",
              "      --disabled-fill-color: #666;\n",
              "  }\n",
              "\n",
              "  .colab-df-quickchart {\n",
              "    background-color: var(--bg-color);\n",
              "    border: none;\n",
              "    border-radius: 50%;\n",
              "    cursor: pointer;\n",
              "    display: none;\n",
              "    fill: var(--fill-color);\n",
              "    height: 32px;\n",
              "    padding: 0;\n",
              "    width: 32px;\n",
              "  }\n",
              "\n",
              "  .colab-df-quickchart:hover {\n",
              "    background-color: var(--hover-bg-color);\n",
              "    box-shadow: 0 1px 2px rgba(60, 64, 67, 0.3), 0 1px 3px 1px rgba(60, 64, 67, 0.15);\n",
              "    fill: var(--button-hover-fill-color);\n",
              "  }\n",
              "\n",
              "  .colab-df-quickchart-complete:disabled,\n",
              "  .colab-df-quickchart-complete:disabled:hover {\n",
              "    background-color: var(--disabled-bg-color);\n",
              "    fill: var(--disabled-fill-color);\n",
              "    box-shadow: none;\n",
              "  }\n",
              "\n",
              "  .colab-df-spinner {\n",
              "    border: 2px solid var(--fill-color);\n",
              "    border-color: transparent;\n",
              "    border-bottom-color: var(--fill-color);\n",
              "    animation:\n",
              "      spin 1s steps(1) infinite;\n",
              "  }\n",
              "\n",
              "  @keyframes spin {\n",
              "    0% {\n",
              "      border-color: transparent;\n",
              "      border-bottom-color: var(--fill-color);\n",
              "      border-left-color: var(--fill-color);\n",
              "    }\n",
              "    20% {\n",
              "      border-color: transparent;\n",
              "      border-left-color: var(--fill-color);\n",
              "      border-top-color: var(--fill-color);\n",
              "    }\n",
              "    30% {\n",
              "      border-color: transparent;\n",
              "      border-left-color: var(--fill-color);\n",
              "      border-top-color: var(--fill-color);\n",
              "      border-right-color: var(--fill-color);\n",
              "    }\n",
              "    40% {\n",
              "      border-color: transparent;\n",
              "      border-right-color: var(--fill-color);\n",
              "      border-top-color: var(--fill-color);\n",
              "    }\n",
              "    60% {\n",
              "      border-color: transparent;\n",
              "      border-right-color: var(--fill-color);\n",
              "    }\n",
              "    80% {\n",
              "      border-color: transparent;\n",
              "      border-right-color: var(--fill-color);\n",
              "      border-bottom-color: var(--fill-color);\n",
              "    }\n",
              "    90% {\n",
              "      border-color: transparent;\n",
              "      border-bottom-color: var(--fill-color);\n",
              "    }\n",
              "  }\n",
              "</style>\n",
              "\n",
              "  <script>\n",
              "    async function quickchart(key) {\n",
              "      const quickchartButtonEl =\n",
              "        document.querySelector('#' + key + ' button');\n",
              "      quickchartButtonEl.disabled = true;  // To prevent multiple clicks.\n",
              "      quickchartButtonEl.classList.add('colab-df-spinner');\n",
              "      try {\n",
              "        const charts = await google.colab.kernel.invokeFunction(\n",
              "            'suggestCharts', [key], {});\n",
              "      } catch (error) {\n",
              "        console.error('Error during call to suggestCharts:', error);\n",
              "      }\n",
              "      quickchartButtonEl.classList.remove('colab-df-spinner');\n",
              "      quickchartButtonEl.classList.add('colab-df-quickchart-complete');\n",
              "    }\n",
              "    (() => {\n",
              "      let quickchartButtonEl =\n",
              "        document.querySelector('#df-7f55231e-9f8c-478c-b101-15a1c3db0352 button');\n",
              "      quickchartButtonEl.style.display =\n",
              "        google.colab.kernel.accessAllowed ? 'block' : 'none';\n",
              "    })();\n",
              "  </script>\n",
              "</div>\n",
              "\n",
              "    </div>\n",
              "  </div>\n"
            ]
          },
          "metadata": {},
          "execution_count": 2
        }
      ],
      "source": [
        "#Trae los datos que necesitamos\n",
        "candidates = {'gmat': [780,750,690,710,680,730,690,720,740,690,610,690,710,680,770,610,580,650,540,590,620,600,550,550,570,670,660,580,650,660,640,620,660,660,680,650,670,580,590,690],\n",
        "              'gpa': [4,3.9,3.3,3.7,3.9,3.7,2.3,3.3,3.3,1.7,2.7,3.7,3.7,3.3,3.3,3,2.7,3.7,2.7,2.3,3.3,2,2.3,2.7,3,3.3,3.7,2.3,3.7,3.3,3,2.7,4,3.3,3.3,2.3,2.7,3.3,1.7,3.7],\n",
        "              'work_experience': [3,4,3,5,4,6,1,4,5,1,3,5,6,4,3,1,4,6,2,3,2,1,4,1,2,6,4,2,6,5,1,2,4,6,5,1,2,1,4,5],\n",
        "              'admitted': [1,1,0,1,0,1,0,1,1,0,0,1,1,0,1,0,0,1,0,0,1,0,0,0,0,1,1,0,1,1,0,0,1,1,1,0,0,0,0,1]\n",
        "              }\n",
        "df = pd.DataFrame(candidates,columns= ['gmat', 'gpa','work_experience','admitted'])\n",
        "df.head()"
      ]
    },
    {
      "cell_type": "code",
      "execution_count": null,
      "id": "e984e52d-69d7-4256-ae16-6379e57b3466",
      "metadata": {
        "id": "e984e52d-69d7-4256-ae16-6379e57b3466"
      },
      "outputs": [],
      "source": [
        "#Separa el dataframe en los datos que vamos a utilizar para predecir y los datos predichos\n",
        "x = df[['gpa','gmat','work_experience']]\n",
        "y = df['admitted']"
      ]
    },
    {
      "cell_type": "code",
      "execution_count": null,
      "id": "d8d4793b-37c1-4217-9e09-4d7d940998e2",
      "metadata": {
        "colab": {
          "base_uri": "https://localhost:8080/"
        },
        "id": "d8d4793b-37c1-4217-9e09-4d7d940998e2",
        "outputId": "050b01f4-2f81-4435-ca7d-3803d4eba9ec"
      },
      "outputs": [
        {
          "output_type": "execute_result",
          "data": {
            "text/plain": [
              "(array([-0.00576901, -0.99991795, -0.01143706]),\n",
              " array([ 0.16747873, -0.01224184,  0.98579968]))"
            ]
          },
          "metadata": {},
          "execution_count": 4
        }
      ],
      "source": [
        "#Una vez teniendo nuestros datos centramos x restándole su media.\n",
        "x_centrada  = x - x.mean(axis=0)\n",
        "#Recordemos que SVD descompone X en 3 matrices U, E y V por lo que utilizamos la función de numpy svd.\n",
        "U, E, V = np.linalg.svd(x_centrada)\n",
        "#V es la que contiene los vectores con los componentes principales\n",
        "#para obtener los primeros 2 simplemente transponemos sus primeras 2 columnas.\n",
        "pc1 = V.T[:,0]\n",
        "pc2 = V.T[:,1]\n",
        "pc1,pc2"
      ]
    },
    {
      "cell_type": "markdown",
      "id": "8b4146cb-9552-410e-ae19-2d66d2eeb0f7",
      "metadata": {
        "id": "8b4146cb-9552-410e-ae19-2d66d2eeb0f7"
      },
      "source": [
        "Para proyectar nuestros datos en el hiperplano y obtener nuestra matriz X de dimensiones reducidas\n",
        "tenemos que XNUEVA = XW donde X es nuestra matriz de datos original y W es la matriz\n",
        "que contiene nuestros vectores de componentes principales."
      ]
    },
    {
      "cell_type": "code",
      "execution_count": null,
      "id": "b533bae6-3287-4c47-8cee-2619a7b4877d",
      "metadata": {
        "colab": {
          "base_uri": "https://localhost:8080/",
          "height": 206
        },
        "id": "b533bae6-3287-4c47-8cee-2619a7b4877d",
        "outputId": "45c23e52-4ebe-49ab-ff07-7655eb2aec77"
      },
      "outputs": [
        {
          "output_type": "execute_result",
          "data": {
            "text/plain": [
              "            0         1\n",
              "0 -125.990022 -1.809869\n",
              "1  -96.003344 -0.473562\n",
              "2  -35.993368 -0.825338\n",
              "3  -56.016909  0.968416\n",
              "4  -26.009087  0.383367"
            ],
            "text/html": [
              "\n",
              "  <div id=\"df-e25efcb2-d741-4871-9972-8c3e35892dd2\" class=\"colab-df-container\">\n",
              "    <div>\n",
              "<style scoped>\n",
              "    .dataframe tbody tr th:only-of-type {\n",
              "        vertical-align: middle;\n",
              "    }\n",
              "\n",
              "    .dataframe tbody tr th {\n",
              "        vertical-align: top;\n",
              "    }\n",
              "\n",
              "    .dataframe thead th {\n",
              "        text-align: right;\n",
              "    }\n",
              "</style>\n",
              "<table border=\"1\" class=\"dataframe\">\n",
              "  <thead>\n",
              "    <tr style=\"text-align: right;\">\n",
              "      <th></th>\n",
              "      <th>0</th>\n",
              "      <th>1</th>\n",
              "    </tr>\n",
              "  </thead>\n",
              "  <tbody>\n",
              "    <tr>\n",
              "      <th>0</th>\n",
              "      <td>-125.990022</td>\n",
              "      <td>-1.809869</td>\n",
              "    </tr>\n",
              "    <tr>\n",
              "      <th>1</th>\n",
              "      <td>-96.003344</td>\n",
              "      <td>-0.473562</td>\n",
              "    </tr>\n",
              "    <tr>\n",
              "      <th>2</th>\n",
              "      <td>-35.993368</td>\n",
              "      <td>-0.825338</td>\n",
              "    </tr>\n",
              "    <tr>\n",
              "      <th>3</th>\n",
              "      <td>-56.016909</td>\n",
              "      <td>0.968416</td>\n",
              "    </tr>\n",
              "    <tr>\n",
              "      <th>4</th>\n",
              "      <td>-26.009087</td>\n",
              "      <td>0.383367</td>\n",
              "    </tr>\n",
              "  </tbody>\n",
              "</table>\n",
              "</div>\n",
              "    <div class=\"colab-df-buttons\">\n",
              "\n",
              "  <div class=\"colab-df-container\">\n",
              "    <button class=\"colab-df-convert\" onclick=\"convertToInteractive('df-e25efcb2-d741-4871-9972-8c3e35892dd2')\"\n",
              "            title=\"Convert this dataframe to an interactive table.\"\n",
              "            style=\"display:none;\">\n",
              "\n",
              "  <svg xmlns=\"http://www.w3.org/2000/svg\" height=\"24px\" viewBox=\"0 -960 960 960\">\n",
              "    <path d=\"M120-120v-720h720v720H120Zm60-500h600v-160H180v160Zm220 220h160v-160H400v160Zm0 220h160v-160H400v160ZM180-400h160v-160H180v160Zm440 0h160v-160H620v160ZM180-180h160v-160H180v160Zm440 0h160v-160H620v160Z\"/>\n",
              "  </svg>\n",
              "    </button>\n",
              "\n",
              "  <style>\n",
              "    .colab-df-container {\n",
              "      display:flex;\n",
              "      gap: 12px;\n",
              "    }\n",
              "\n",
              "    .colab-df-convert {\n",
              "      background-color: #E8F0FE;\n",
              "      border: none;\n",
              "      border-radius: 50%;\n",
              "      cursor: pointer;\n",
              "      display: none;\n",
              "      fill: #1967D2;\n",
              "      height: 32px;\n",
              "      padding: 0 0 0 0;\n",
              "      width: 32px;\n",
              "    }\n",
              "\n",
              "    .colab-df-convert:hover {\n",
              "      background-color: #E2EBFA;\n",
              "      box-shadow: 0px 1px 2px rgba(60, 64, 67, 0.3), 0px 1px 3px 1px rgba(60, 64, 67, 0.15);\n",
              "      fill: #174EA6;\n",
              "    }\n",
              "\n",
              "    .colab-df-buttons div {\n",
              "      margin-bottom: 4px;\n",
              "    }\n",
              "\n",
              "    [theme=dark] .colab-df-convert {\n",
              "      background-color: #3B4455;\n",
              "      fill: #D2E3FC;\n",
              "    }\n",
              "\n",
              "    [theme=dark] .colab-df-convert:hover {\n",
              "      background-color: #434B5C;\n",
              "      box-shadow: 0px 1px 3px 1px rgba(0, 0, 0, 0.15);\n",
              "      filter: drop-shadow(0px 1px 2px rgba(0, 0, 0, 0.3));\n",
              "      fill: #FFFFFF;\n",
              "    }\n",
              "  </style>\n",
              "\n",
              "    <script>\n",
              "      const buttonEl =\n",
              "        document.querySelector('#df-e25efcb2-d741-4871-9972-8c3e35892dd2 button.colab-df-convert');\n",
              "      buttonEl.style.display =\n",
              "        google.colab.kernel.accessAllowed ? 'block' : 'none';\n",
              "\n",
              "      async function convertToInteractive(key) {\n",
              "        const element = document.querySelector('#df-e25efcb2-d741-4871-9972-8c3e35892dd2');\n",
              "        const dataTable =\n",
              "          await google.colab.kernel.invokeFunction('convertToInteractive',\n",
              "                                                    [key], {});\n",
              "        if (!dataTable) return;\n",
              "\n",
              "        const docLinkHtml = 'Like what you see? Visit the ' +\n",
              "          '<a target=\"_blank\" href=https://colab.research.google.com/notebooks/data_table.ipynb>data table notebook</a>'\n",
              "          + ' to learn more about interactive tables.';\n",
              "        element.innerHTML = '';\n",
              "        dataTable['output_type'] = 'display_data';\n",
              "        await google.colab.output.renderOutput(dataTable, element);\n",
              "        const docLink = document.createElement('div');\n",
              "        docLink.innerHTML = docLinkHtml;\n",
              "        element.appendChild(docLink);\n",
              "      }\n",
              "    </script>\n",
              "  </div>\n",
              "\n",
              "\n",
              "<div id=\"df-3b328299-9bcc-4ac1-bd17-baabe3c795fc\">\n",
              "  <button class=\"colab-df-quickchart\" onclick=\"quickchart('df-3b328299-9bcc-4ac1-bd17-baabe3c795fc')\"\n",
              "            title=\"Suggest charts\"\n",
              "            style=\"display:none;\">\n",
              "\n",
              "<svg xmlns=\"http://www.w3.org/2000/svg\" height=\"24px\"viewBox=\"0 0 24 24\"\n",
              "     width=\"24px\">\n",
              "    <g>\n",
              "        <path d=\"M19 3H5c-1.1 0-2 .9-2 2v14c0 1.1.9 2 2 2h14c1.1 0 2-.9 2-2V5c0-1.1-.9-2-2-2zM9 17H7v-7h2v7zm4 0h-2V7h2v10zm4 0h-2v-4h2v4z\"/>\n",
              "    </g>\n",
              "</svg>\n",
              "  </button>\n",
              "\n",
              "<style>\n",
              "  .colab-df-quickchart {\n",
              "      --bg-color: #E8F0FE;\n",
              "      --fill-color: #1967D2;\n",
              "      --hover-bg-color: #E2EBFA;\n",
              "      --hover-fill-color: #174EA6;\n",
              "      --disabled-fill-color: #AAA;\n",
              "      --disabled-bg-color: #DDD;\n",
              "  }\n",
              "\n",
              "  [theme=dark] .colab-df-quickchart {\n",
              "      --bg-color: #3B4455;\n",
              "      --fill-color: #D2E3FC;\n",
              "      --hover-bg-color: #434B5C;\n",
              "      --hover-fill-color: #FFFFFF;\n",
              "      --disabled-bg-color: #3B4455;\n",
              "      --disabled-fill-color: #666;\n",
              "  }\n",
              "\n",
              "  .colab-df-quickchart {\n",
              "    background-color: var(--bg-color);\n",
              "    border: none;\n",
              "    border-radius: 50%;\n",
              "    cursor: pointer;\n",
              "    display: none;\n",
              "    fill: var(--fill-color);\n",
              "    height: 32px;\n",
              "    padding: 0;\n",
              "    width: 32px;\n",
              "  }\n",
              "\n",
              "  .colab-df-quickchart:hover {\n",
              "    background-color: var(--hover-bg-color);\n",
              "    box-shadow: 0 1px 2px rgba(60, 64, 67, 0.3), 0 1px 3px 1px rgba(60, 64, 67, 0.15);\n",
              "    fill: var(--button-hover-fill-color);\n",
              "  }\n",
              "\n",
              "  .colab-df-quickchart-complete:disabled,\n",
              "  .colab-df-quickchart-complete:disabled:hover {\n",
              "    background-color: var(--disabled-bg-color);\n",
              "    fill: var(--disabled-fill-color);\n",
              "    box-shadow: none;\n",
              "  }\n",
              "\n",
              "  .colab-df-spinner {\n",
              "    border: 2px solid var(--fill-color);\n",
              "    border-color: transparent;\n",
              "    border-bottom-color: var(--fill-color);\n",
              "    animation:\n",
              "      spin 1s steps(1) infinite;\n",
              "  }\n",
              "\n",
              "  @keyframes spin {\n",
              "    0% {\n",
              "      border-color: transparent;\n",
              "      border-bottom-color: var(--fill-color);\n",
              "      border-left-color: var(--fill-color);\n",
              "    }\n",
              "    20% {\n",
              "      border-color: transparent;\n",
              "      border-left-color: var(--fill-color);\n",
              "      border-top-color: var(--fill-color);\n",
              "    }\n",
              "    30% {\n",
              "      border-color: transparent;\n",
              "      border-left-color: var(--fill-color);\n",
              "      border-top-color: var(--fill-color);\n",
              "      border-right-color: var(--fill-color);\n",
              "    }\n",
              "    40% {\n",
              "      border-color: transparent;\n",
              "      border-right-color: var(--fill-color);\n",
              "      border-top-color: var(--fill-color);\n",
              "    }\n",
              "    60% {\n",
              "      border-color: transparent;\n",
              "      border-right-color: var(--fill-color);\n",
              "    }\n",
              "    80% {\n",
              "      border-color: transparent;\n",
              "      border-right-color: var(--fill-color);\n",
              "      border-bottom-color: var(--fill-color);\n",
              "    }\n",
              "    90% {\n",
              "      border-color: transparent;\n",
              "      border-bottom-color: var(--fill-color);\n",
              "    }\n",
              "  }\n",
              "</style>\n",
              "\n",
              "  <script>\n",
              "    async function quickchart(key) {\n",
              "      const quickchartButtonEl =\n",
              "        document.querySelector('#' + key + ' button');\n",
              "      quickchartButtonEl.disabled = true;  // To prevent multiple clicks.\n",
              "      quickchartButtonEl.classList.add('colab-df-spinner');\n",
              "      try {\n",
              "        const charts = await google.colab.kernel.invokeFunction(\n",
              "            'suggestCharts', [key], {});\n",
              "      } catch (error) {\n",
              "        console.error('Error during call to suggestCharts:', error);\n",
              "      }\n",
              "      quickchartButtonEl.classList.remove('colab-df-spinner');\n",
              "      quickchartButtonEl.classList.add('colab-df-quickchart-complete');\n",
              "    }\n",
              "    (() => {\n",
              "      let quickchartButtonEl =\n",
              "        document.querySelector('#df-3b328299-9bcc-4ac1-bd17-baabe3c795fc button');\n",
              "      quickchartButtonEl.style.display =\n",
              "        google.colab.kernel.accessAllowed ? 'block' : 'none';\n",
              "    })();\n",
              "  </script>\n",
              "</div>\n",
              "\n",
              "    </div>\n",
              "  </div>\n"
            ]
          },
          "metadata": {},
          "execution_count": 5
        }
      ],
      "source": [
        "W = V.T[:, :2]\n",
        "x_nueva = x_centrada.dot(W)\n",
        "x_nueva.head()"
      ]
    },
    {
      "cell_type": "markdown",
      "id": "04c767b2-6363-4455-b618-b91508d18d36",
      "metadata": {
        "id": "04c767b2-6363-4455-b618-b91508d18d36"
      },
      "source": [
        "### <span style=\"color:blue\">1.1 Con Scikit</span>"
      ]
    },
    {
      "cell_type": "code",
      "execution_count": null,
      "id": "7b225056-b240-47db-9794-5653cba6a104",
      "metadata": {
        "colab": {
          "base_uri": "https://localhost:8080/"
        },
        "id": "7b225056-b240-47db-9794-5653cba6a104",
        "outputId": "e04479e8-39f0-44ee-974b-42d9562f3058"
      },
      "outputs": [
        {
          "output_type": "execute_result",
          "data": {
            "text/plain": [
              "array([[125.99002225,   1.80986853],\n",
              "       [ 96.00334382,   0.4735615 ],\n",
              "       [ 35.9933682 ,   0.82533799],\n",
              "       [ 56.01690897,  -0.96841606],\n",
              "       [ 26.00908713,  -0.38336734]])"
            ]
          },
          "metadata": {},
          "execution_count": 6
        }
      ],
      "source": [
        "#Importa PCA\n",
        "from sklearn.decomposition import PCA\n",
        "#Genera el objeto\n",
        "pca = PCA(n_components=2)\n",
        "x_nueva = pca.fit_transform(x)\n",
        "x_nueva[0:5]"
      ]
    },
    {
      "cell_type": "code",
      "execution_count": null,
      "id": "dc96a6e4-46f5-49ed-abfa-9b16428e9fe8",
      "metadata": {
        "colab": {
          "base_uri": "https://localhost:8080/"
        },
        "id": "dc96a6e4-46f5-49ed-abfa-9b16428e9fe8",
        "outputId": "539f1185-2a17-4438-fec6-b10e852cb1d8"
      },
      "outputs": [
        {
          "output_type": "execute_result",
          "data": {
            "text/plain": [
              "array([9.99258771e-01, 6.86720501e-04])"
            ]
          },
          "metadata": {},
          "execution_count": 7
        }
      ],
      "source": [
        "#Calula la distribución de la varianza\n",
        "pca.explained_variance_ratio_"
      ]
    },
    {
      "cell_type": "markdown",
      "id": "ed54a393-f421-4ddd-b22d-1de13e343beb",
      "metadata": {
        "id": "ed54a393-f421-4ddd-b22d-1de13e343beb"
      },
      "source": [
        "Esta distribución nos indica la proporción de varianza que cada componente principal contiene en comparación al set de datos original."
      ]
    },
    {
      "cell_type": "code",
      "execution_count": null,
      "id": "b067be89-ca4d-431a-9ec8-2eca0ad3cb2b",
      "metadata": {
        "colab": {
          "base_uri": "https://localhost:8080/"
        },
        "id": "b067be89-ca4d-431a-9ec8-2eca0ad3cb2b",
        "outputId": "a266131f-5f23-47f9-eac5-753ded38f5a3"
      },
      "outputs": [
        {
          "output_type": "execute_result",
          "data": {
            "text/plain": [
              "array([[125.99002225],\n",
              "       [ 96.00334382],\n",
              "       [ 35.9933682 ],\n",
              "       [ 56.01690897],\n",
              "       [ 26.00908713]])"
            ]
          },
          "metadata": {},
          "execution_count": 8
        }
      ],
      "source": [
        "# Crea  un modelo donde tengas al menos el 90% de la varianza consevada\n",
        "pca = PCA(n_components=0.90)\n",
        "x_nueva = pca.fit_transform(x)\n",
        "x_nueva[0:5]"
      ]
    },
    {
      "cell_type": "markdown",
      "id": "2349ee1d-e7c6-4398-9b41-993ee9198283",
      "metadata": {
        "id": "2349ee1d-e7c6-4398-9b41-993ee9198283"
      },
      "source": [
        "***"
      ]
    },
    {
      "cell_type": "code",
      "execution_count": null,
      "id": "73a5c55b-d8f9-4790-92b7-598b764df421",
      "metadata": {
        "colab": {
          "base_uri": "https://localhost:8080/"
        },
        "id": "73a5c55b-d8f9-4790-92b7-598b764df421",
        "outputId": "53414d68-ed7b-4cf0-ed30-b766ecf2083d"
      },
      "outputs": [
        {
          "output_type": "execute_result",
          "data": {
            "text/plain": [
              "array([[  3.82183783, 779.97968511,   4.86595537],\n",
              "       [  3.64884435, 749.99546701,   4.52299595],\n",
              "       [  3.30264614, 689.99041504,   3.83665829],\n",
              "       [  3.41816217, 710.01231294,   4.06566872],\n",
              "       [  3.24504671, 680.00695316,   3.72246748]])"
            ]
          },
          "metadata": {},
          "execution_count": 9
        }
      ],
      "source": [
        "#descomprime los datos con la función inverse_transform\n",
        "pca = PCA(n_components=1)\n",
        "x_nueva = pca.fit_transform(x)\n",
        "x_recuperada = pca.inverse_transform(x_nueva)\n",
        "#Resultado de la descompresión\n",
        "x_recuperada[0:5]"
      ]
    },
    {
      "cell_type": "markdown",
      "id": "a395bde4-9b1c-4a9e-a633-557971e013b6",
      "metadata": {
        "id": "a395bde4-9b1c-4a9e-a633-557971e013b6"
      },
      "source": [
        "Se pierde fidelidad porque no explica la variación en todos los datos pero es suficiente para entrenar al algoritmo"
      ]
    },
    {
      "cell_type": "markdown",
      "id": "86184122-f064-4fc7-bcbb-62fe931b3c34",
      "metadata": {
        "id": "86184122-f064-4fc7-bcbb-62fe931b3c34"
      },
      "source": [
        "***"
      ]
    },
    {
      "cell_type": "markdown",
      "id": "e6a2a10e-08db-41f1-b8e1-ca95b93ea193",
      "metadata": {
        "id": "e6a2a10e-08db-41f1-b8e1-ca95b93ea193"
      },
      "source": [
        "### <span style=\"color:blue\">1.2 PCA Incremental</span>"
      ]
    },
    {
      "cell_type": "code",
      "execution_count": null,
      "id": "e19b3821-f386-4f61-9d93-f57bcc00f916",
      "metadata": {
        "colab": {
          "base_uri": "https://localhost:8080/"
        },
        "id": "e19b3821-f386-4f61-9d93-f57bcc00f916",
        "outputId": "c8d096c2-bfbe-439c-b7bf-581eae739cc6"
      },
      "outputs": [
        {
          "output_type": "execute_result",
          "data": {
            "text/plain": [
              "array([[125.99002318],\n",
              "       [ 96.00334408],\n",
              "       [ 35.99336862],\n",
              "       [ 56.01690849],\n",
              "       [ 26.00908696]])"
            ]
          },
          "metadata": {},
          "execution_count": 10
        }
      ],
      "source": [
        "#Importar IncrementalPCA\n",
        "from sklearn.decomposition import IncrementalPCA\n",
        "#Divide los datos en 3, es decir, 3 subsets.\n",
        "subsets = 3\n",
        "ipca = IncrementalPCA(n_components=1)\n",
        "for subset in np.array_split(x, subsets):\n",
        "    ipca.partial_fit(subset)\n",
        "\n",
        "x_nueva = ipca.transform(x)\n",
        "x_nueva[0:5]"
      ]
    },
    {
      "cell_type": "markdown",
      "id": "f9f93476-5111-4b2a-b3b7-ea24d88e4d39",
      "metadata": {
        "id": "f9f93476-5111-4b2a-b3b7-ea24d88e4d39"
      },
      "source": [
        "***"
      ]
    },
    {
      "cell_type": "markdown",
      "id": "d652b6bd-7af3-4f07-ba28-7f7716cdc56c",
      "metadata": {
        "id": "d652b6bd-7af3-4f07-ba28-7f7716cdc56c"
      },
      "source": [
        "## <span style=\"color:green\">2. Kernel PCA</span>"
      ]
    },
    {
      "cell_type": "code",
      "execution_count": null,
      "id": "383ff89e-3e58-45f4-bd8c-1d6d610596e0",
      "metadata": {
        "id": "383ff89e-3e58-45f4-bd8c-1d6d610596e0"
      },
      "outputs": [],
      "source": [
        "#Importar KernelPCA\n",
        "from sklearn.decomposition import KernelPCA\n",
        "#Hacer un rbf= Radial Basis function\n",
        "pca_rbf = KernelPCA(n_components=2, kernel=\"rbf\")"
      ]
    },
    {
      "cell_type": "code",
      "execution_count": null,
      "id": "f54d45af-b710-4f7b-afb7-cda37099076e",
      "metadata": {
        "colab": {
          "base_uri": "https://localhost:8080/"
        },
        "id": "f54d45af-b710-4f7b-afb7-cda37099076e",
        "outputId": "458ba3af-4e6f-4bfb-e676-523670e22659"
      },
      "outputs": [
        {
          "output_type": "execute_result",
          "data": {
            "text/plain": [
              "array([[-0.03746614, -0.04697463],\n",
              "       [-0.03746614, -0.04697463],\n",
              "       [-0.09203604, -0.18169782],\n",
              "       [-0.06508374, -0.0952682 ],\n",
              "       [-0.33597196,  0.80053796]])"
            ]
          },
          "metadata": {},
          "execution_count": 12
        }
      ],
      "source": [
        "x_nueva=pca_rbf.fit_transform(x)\n",
        "#Visualiza los resultado\n",
        "x_nueva[0:5]"
      ]
    },
    {
      "cell_type": "markdown",
      "id": "f842ec7d-c335-418b-b0f1-696889ac026b",
      "metadata": {
        "id": "f842ec7d-c335-418b-b0f1-696889ac026b"
      },
      "source": [
        "### <span style=\"color:blue\">2.1 Seleccionar un Kernel</span>"
      ]
    },
    {
      "cell_type": "code",
      "execution_count": null,
      "id": "60f25c1b-a8fc-4460-b9b8-577fa333a61c",
      "metadata": {
        "id": "60f25c1b-a8fc-4460-b9b8-577fa333a61c"
      },
      "outputs": [],
      "source": [
        "#Importar GridSearchCV\n",
        "from sklearn.model_selection import GridSearchCV\n",
        "#Importar LogisticRegressin\n",
        "from sklearn.linear_model import LogisticRegression\n",
        "#Importar Pipeline\n",
        "from sklearn.pipeline import Pipeline\n",
        "\n",
        "#Armar un pipeline que pase por KernelPCA y LogisticRegression\n",
        "clf = Pipeline([\n",
        "    (\"pca\", KernelPCA(n_components=2)),\n",
        "    (\"reg\", LogisticRegression())\n",
        "])"
      ]
    },
    {
      "cell_type": "code",
      "execution_count": null,
      "id": "c8f6ecb6-5e2d-4c23-a12b-d030239477e2",
      "metadata": {
        "id": "c8f6ecb6-5e2d-4c23-a12b-d030239477e2"
      },
      "outputs": [],
      "source": [
        "#Corre el GridSearch\n",
        "grid = [{\n",
        "    \"pca__gamma\": np.linspace(0.1,0.5,10),\n",
        "    \"pca__kernel\": [\"rbf\",\"sigmoid\"]\n",
        "}]"
      ]
    },
    {
      "cell_type": "code",
      "execution_count": null,
      "id": "b45f0461-5fda-4dae-ba22-eb2bf69679ba",
      "metadata": {
        "colab": {
          "base_uri": "https://localhost:8080/",
          "height": 152
        },
        "id": "b45f0461-5fda-4dae-ba22-eb2bf69679ba",
        "outputId": "219ae3b5-d2ee-4375-89f2-70d9a60afdf2"
      },
      "outputs": [
        {
          "output_type": "execute_result",
          "data": {
            "text/plain": [
              "GridSearchCV(estimator=Pipeline(steps=[('pca', KernelPCA(n_components=2)),\n",
              "                                       ('reg', LogisticRegression())]),\n",
              "             param_grid=[{'pca__gamma': array([0.1       , 0.14444444, 0.18888889, 0.23333333, 0.27777778,\n",
              "       0.32222222, 0.36666667, 0.41111111, 0.45555556, 0.5       ]),\n",
              "                          'pca__kernel': ['rbf', 'sigmoid']}])"
            ],
            "text/html": [
              "<style>#sk-container-id-1 {color: black;background-color: white;}#sk-container-id-1 pre{padding: 0;}#sk-container-id-1 div.sk-toggleable {background-color: white;}#sk-container-id-1 label.sk-toggleable__label {cursor: pointer;display: block;width: 100%;margin-bottom: 0;padding: 0.3em;box-sizing: border-box;text-align: center;}#sk-container-id-1 label.sk-toggleable__label-arrow:before {content: \"▸\";float: left;margin-right: 0.25em;color: #696969;}#sk-container-id-1 label.sk-toggleable__label-arrow:hover:before {color: black;}#sk-container-id-1 div.sk-estimator:hover label.sk-toggleable__label-arrow:before {color: black;}#sk-container-id-1 div.sk-toggleable__content {max-height: 0;max-width: 0;overflow: hidden;text-align: left;background-color: #f0f8ff;}#sk-container-id-1 div.sk-toggleable__content pre {margin: 0.2em;color: black;border-radius: 0.25em;background-color: #f0f8ff;}#sk-container-id-1 input.sk-toggleable__control:checked~div.sk-toggleable__content {max-height: 200px;max-width: 100%;overflow: auto;}#sk-container-id-1 input.sk-toggleable__control:checked~label.sk-toggleable__label-arrow:before {content: \"▾\";}#sk-container-id-1 div.sk-estimator input.sk-toggleable__control:checked~label.sk-toggleable__label {background-color: #d4ebff;}#sk-container-id-1 div.sk-label input.sk-toggleable__control:checked~label.sk-toggleable__label {background-color: #d4ebff;}#sk-container-id-1 input.sk-hidden--visually {border: 0;clip: rect(1px 1px 1px 1px);clip: rect(1px, 1px, 1px, 1px);height: 1px;margin: -1px;overflow: hidden;padding: 0;position: absolute;width: 1px;}#sk-container-id-1 div.sk-estimator {font-family: monospace;background-color: #f0f8ff;border: 1px dotted black;border-radius: 0.25em;box-sizing: border-box;margin-bottom: 0.5em;}#sk-container-id-1 div.sk-estimator:hover {background-color: #d4ebff;}#sk-container-id-1 div.sk-parallel-item::after {content: \"\";width: 100%;border-bottom: 1px solid gray;flex-grow: 1;}#sk-container-id-1 div.sk-label:hover label.sk-toggleable__label {background-color: #d4ebff;}#sk-container-id-1 div.sk-serial::before {content: \"\";position: absolute;border-left: 1px solid gray;box-sizing: border-box;top: 0;bottom: 0;left: 50%;z-index: 0;}#sk-container-id-1 div.sk-serial {display: flex;flex-direction: column;align-items: center;background-color: white;padding-right: 0.2em;padding-left: 0.2em;position: relative;}#sk-container-id-1 div.sk-item {position: relative;z-index: 1;}#sk-container-id-1 div.sk-parallel {display: flex;align-items: stretch;justify-content: center;background-color: white;position: relative;}#sk-container-id-1 div.sk-item::before, #sk-container-id-1 div.sk-parallel-item::before {content: \"\";position: absolute;border-left: 1px solid gray;box-sizing: border-box;top: 0;bottom: 0;left: 50%;z-index: -1;}#sk-container-id-1 div.sk-parallel-item {display: flex;flex-direction: column;z-index: 1;position: relative;background-color: white;}#sk-container-id-1 div.sk-parallel-item:first-child::after {align-self: flex-end;width: 50%;}#sk-container-id-1 div.sk-parallel-item:last-child::after {align-self: flex-start;width: 50%;}#sk-container-id-1 div.sk-parallel-item:only-child::after {width: 0;}#sk-container-id-1 div.sk-dashed-wrapped {border: 1px dashed gray;margin: 0 0.4em 0.5em 0.4em;box-sizing: border-box;padding-bottom: 0.4em;background-color: white;}#sk-container-id-1 div.sk-label label {font-family: monospace;font-weight: bold;display: inline-block;line-height: 1.2em;}#sk-container-id-1 div.sk-label-container {text-align: center;}#sk-container-id-1 div.sk-container {/* jupyter's `normalize.less` sets `[hidden] { display: none; }` but bootstrap.min.css set `[hidden] { display: none !important; }` so we also need the `!important` here to be able to override the default hidden behavior on the sphinx rendered scikit-learn.org. See: https://github.com/scikit-learn/scikit-learn/issues/21755 */display: inline-block !important;position: relative;}#sk-container-id-1 div.sk-text-repr-fallback {display: none;}</style><div id=\"sk-container-id-1\" class=\"sk-top-container\"><div class=\"sk-text-repr-fallback\"><pre>GridSearchCV(estimator=Pipeline(steps=[(&#x27;pca&#x27;, KernelPCA(n_components=2)),\n",
              "                                       (&#x27;reg&#x27;, LogisticRegression())]),\n",
              "             param_grid=[{&#x27;pca__gamma&#x27;: array([0.1       , 0.14444444, 0.18888889, 0.23333333, 0.27777778,\n",
              "       0.32222222, 0.36666667, 0.41111111, 0.45555556, 0.5       ]),\n",
              "                          &#x27;pca__kernel&#x27;: [&#x27;rbf&#x27;, &#x27;sigmoid&#x27;]}])</pre><b>In a Jupyter environment, please rerun this cell to show the HTML representation or trust the notebook. <br />On GitHub, the HTML representation is unable to render, please try loading this page with nbviewer.org.</b></div><div class=\"sk-container\" hidden><div class=\"sk-item sk-dashed-wrapped\"><div class=\"sk-label-container\"><div class=\"sk-label sk-toggleable\"><input class=\"sk-toggleable__control sk-hidden--visually\" id=\"sk-estimator-id-1\" type=\"checkbox\" ><label for=\"sk-estimator-id-1\" class=\"sk-toggleable__label sk-toggleable__label-arrow\">GridSearchCV</label><div class=\"sk-toggleable__content\"><pre>GridSearchCV(estimator=Pipeline(steps=[(&#x27;pca&#x27;, KernelPCA(n_components=2)),\n",
              "                                       (&#x27;reg&#x27;, LogisticRegression())]),\n",
              "             param_grid=[{&#x27;pca__gamma&#x27;: array([0.1       , 0.14444444, 0.18888889, 0.23333333, 0.27777778,\n",
              "       0.32222222, 0.36666667, 0.41111111, 0.45555556, 0.5       ]),\n",
              "                          &#x27;pca__kernel&#x27;: [&#x27;rbf&#x27;, &#x27;sigmoid&#x27;]}])</pre></div></div></div><div class=\"sk-parallel\"><div class=\"sk-parallel-item\"><div class=\"sk-item\"><div class=\"sk-label-container\"><div class=\"sk-label sk-toggleable\"><input class=\"sk-toggleable__control sk-hidden--visually\" id=\"sk-estimator-id-2\" type=\"checkbox\" ><label for=\"sk-estimator-id-2\" class=\"sk-toggleable__label sk-toggleable__label-arrow\">estimator: Pipeline</label><div class=\"sk-toggleable__content\"><pre>Pipeline(steps=[(&#x27;pca&#x27;, KernelPCA(n_components=2)),\n",
              "                (&#x27;reg&#x27;, LogisticRegression())])</pre></div></div></div><div class=\"sk-serial\"><div class=\"sk-item\"><div class=\"sk-serial\"><div class=\"sk-item\"><div class=\"sk-estimator sk-toggleable\"><input class=\"sk-toggleable__control sk-hidden--visually\" id=\"sk-estimator-id-3\" type=\"checkbox\" ><label for=\"sk-estimator-id-3\" class=\"sk-toggleable__label sk-toggleable__label-arrow\">KernelPCA</label><div class=\"sk-toggleable__content\"><pre>KernelPCA(n_components=2)</pre></div></div></div><div class=\"sk-item\"><div class=\"sk-estimator sk-toggleable\"><input class=\"sk-toggleable__control sk-hidden--visually\" id=\"sk-estimator-id-4\" type=\"checkbox\" ><label for=\"sk-estimator-id-4\" class=\"sk-toggleable__label sk-toggleable__label-arrow\">LogisticRegression</label><div class=\"sk-toggleable__content\"><pre>LogisticRegression()</pre></div></div></div></div></div></div></div></div></div></div></div></div>"
            ]
          },
          "metadata": {},
          "execution_count": 15
        }
      ],
      "source": [
        "#Ejecuta el GridSearch\n",
        "search = GridSearchCV(clf, grid)\n",
        "search.fit(x,y)"
      ]
    },
    {
      "cell_type": "code",
      "execution_count": null,
      "id": "c9615bba-6edd-4c1a-9d55-31c4136ffb47",
      "metadata": {
        "colab": {
          "base_uri": "https://localhost:8080/"
        },
        "id": "c9615bba-6edd-4c1a-9d55-31c4136ffb47",
        "outputId": "d15cac6c-0008-4fd7-cf85-0afa384c23bb"
      },
      "outputs": [
        {
          "output_type": "stream",
          "name": "stdout",
          "text": [
            "{'pca__gamma': 0.14444444444444446, 'pca__kernel': 'rbf'}\n"
          ]
        }
      ],
      "source": [
        "#Imprime el mejor parámetro que equivale al PCA que será la mejor regresión logística\n",
        "print(search.best_params_)"
      ]
    },
    {
      "cell_type": "markdown",
      "id": "1969c715-fdb3-419f-a290-e5706e16c4e9",
      "metadata": {
        "id": "1969c715-fdb3-419f-a290-e5706e16c4e9"
      },
      "source": [
        "## <span style=\"color:green\">2. LLE</span>"
      ]
    },
    {
      "cell_type": "markdown",
      "id": "64e092d2-6ad4-434e-9045-680334294cda",
      "metadata": {
        "id": "64e092d2-6ad4-434e-9045-680334294cda"
      },
      "source": [
        "LLE= Locally Linear Embedding"
      ]
    },
    {
      "cell_type": "markdown",
      "id": "87099143-221a-4906-b399-bda8ed779fa6",
      "metadata": {
        "id": "87099143-221a-4906-b399-bda8ed779fa6"
      },
      "source": [
        "Es un método de reducción de dimensionalidad no lineal y **no depende de proyecciones**\n",
        "\n",
        "Funciona midiendo como cada instancia de entrenamiento se relaciona linealmente con sus instancias vecinas y busca una representación lineal de pocas dimensiones del set de datos donde estas relaciones entre instancias cercanas o vecinas están bien preservadas."
      ]
    },
    {
      "cell_type": "code",
      "execution_count": null,
      "id": "39d0f66d-f611-4425-a417-654775b1f65e",
      "metadata": {
        "colab": {
          "base_uri": "https://localhost:8080/"
        },
        "id": "39d0f66d-f611-4425-a417-654775b1f65e",
        "outputId": "1d1ece90-fae5-4ebb-ea51-c3105f46d73e"
      },
      "outputs": [
        {
          "output_type": "execute_result",
          "data": {
            "text/plain": [
              "array([[ 0.17455358,  0.54429708],\n",
              "       [ 0.16458675,  0.31468021],\n",
              "       [ 0.14479511, -0.15096839],\n",
              "       [ 0.151172  ,  0.00563436],\n",
              "       [ 0.11317562, -0.13502106]])"
            ]
          },
          "metadata": {},
          "execution_count": 17
        }
      ],
      "source": [
        "#Importar LocallyLinearEmbedding\n",
        "from sklearn.manifold import LocallyLinearEmbedding\n",
        "\n",
        "#Seleccionar el número de dimensiones, componentes y \"vecinos\"\n",
        "lle = LocallyLinearEmbedding(n_components=2, n_neighbors=5)\n",
        "x_nueva = lle.fit_transform(x)\n",
        "x_nueva[0:5]"
      ]
    }
  ],
  "metadata": {
    "kernelspec": {
      "display_name": "Python 3 (ipykernel)",
      "language": "python",
      "name": "python3"
    },
    "language_info": {
      "codemirror_mode": {
        "name": "ipython",
        "version": 3
      },
      "file_extension": ".py",
      "mimetype": "text/x-python",
      "name": "python",
      "nbconvert_exporter": "python",
      "pygments_lexer": "ipython3",
      "version": "3.9.7"
    },
    "colab": {
      "provenance": [],
      "include_colab_link": true
    }
  },
  "nbformat": 4,
  "nbformat_minor": 5
}